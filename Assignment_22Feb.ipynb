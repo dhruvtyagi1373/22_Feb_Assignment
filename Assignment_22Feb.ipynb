{
 "cells": [
  {
   "cell_type": "markdown",
   "id": "17d7ae04-61cf-4a74-80a2-411c05026344",
   "metadata": {},
   "source": [
    "## Q1. Create a Pandas Series that contains the following data: 4, 8, 15, 16, 23, and 42. Then, print the series."
   ]
  },
  {
   "cell_type": "code",
   "execution_count": 2,
   "id": "5e63ef42-33e2-47d4-b05a-abeddf0f0d06",
   "metadata": {},
   "outputs": [],
   "source": [
    "import pandas as pd\n",
    "d = pd.Series([4,8,15,16,23,42])"
   ]
  },
  {
   "cell_type": "code",
   "execution_count": 5,
   "id": "58b89d6b-cfae-4769-b5bb-e6a9a70494b5",
   "metadata": {},
   "outputs": [
    {
     "data": {
      "text/plain": [
       "0     4\n",
       "1     8\n",
       "2    15\n",
       "3    16\n",
       "4    23\n",
       "5    42\n",
       "dtype: int64"
      ]
     },
     "execution_count": 5,
     "metadata": {},
     "output_type": "execute_result"
    }
   ],
   "source": [
    "d"
   ]
  },
  {
   "cell_type": "markdown",
   "id": "0631e054-2030-4dcb-9344-7d59fc95d7ad",
   "metadata": {},
   "source": [
    "## Q2. Create a variable of list type containing 10 elements in it, and apply pandas.Series function on the variable print it."
   ]
  },
  {
   "cell_type": "code",
   "execution_count": 6,
   "id": "a1efa84a-54a2-469c-8223-25e0dd949fd2",
   "metadata": {},
   "outputs": [],
   "source": [
    "lst = [1,2,23,4,4,5,56,'Nmae','Happy',8]"
   ]
  },
  {
   "cell_type": "code",
   "execution_count": 9,
   "id": "9a80d7cd-df0a-4964-9b17-3bbcf0409ed1",
   "metadata": {},
   "outputs": [
    {
     "data": {
      "text/plain": [
       "0        1\n",
       "1        2\n",
       "2       23\n",
       "3        4\n",
       "4        4\n",
       "5        5\n",
       "6       56\n",
       "7     Nmae\n",
       "8    Happy\n",
       "9        8\n",
       "dtype: object"
      ]
     },
     "execution_count": 9,
     "metadata": {},
     "output_type": "execute_result"
    }
   ],
   "source": [
    "pd.Series(lst)"
   ]
  },
  {
   "cell_type": "markdown",
   "id": "7f983a5c-9424-4aec-ad84-b8cc6ecc5adf",
   "metadata": {},
   "source": [
    "## Q3. Create a Pandas DataFrame that contains the following data: Then, print the DataFrame."
   ]
  },
  {
   "cell_type": "code",
   "execution_count": 10,
   "id": "ccf1261f-9e93-44b2-b441-232a2683e623",
   "metadata": {},
   "outputs": [],
   "source": [
    "Data = {'Name':['Alice','Bob','Claire'],'Age':[25,30,27],'Gender':['female','male','female']}"
   ]
  },
  {
   "cell_type": "code",
   "execution_count": 11,
   "id": "1d87ed02-7770-417a-800a-9c4b8fc3e529",
   "metadata": {},
   "outputs": [],
   "source": [
    "df1 = pd.DataFrame(Data)"
   ]
  },
  {
   "cell_type": "code",
   "execution_count": 12,
   "id": "47ff8117-76ab-41d3-bc93-ce15262bd459",
   "metadata": {},
   "outputs": [
    {
     "data": {
      "text/html": [
       "<div>\n",
       "<style scoped>\n",
       "    .dataframe tbody tr th:only-of-type {\n",
       "        vertical-align: middle;\n",
       "    }\n",
       "\n",
       "    .dataframe tbody tr th {\n",
       "        vertical-align: top;\n",
       "    }\n",
       "\n",
       "    .dataframe thead th {\n",
       "        text-align: right;\n",
       "    }\n",
       "</style>\n",
       "<table border=\"1\" class=\"dataframe\">\n",
       "  <thead>\n",
       "    <tr style=\"text-align: right;\">\n",
       "      <th></th>\n",
       "      <th>Name</th>\n",
       "      <th>Age</th>\n",
       "      <th>Gender</th>\n",
       "    </tr>\n",
       "  </thead>\n",
       "  <tbody>\n",
       "    <tr>\n",
       "      <th>0</th>\n",
       "      <td>Alice</td>\n",
       "      <td>25</td>\n",
       "      <td>female</td>\n",
       "    </tr>\n",
       "    <tr>\n",
       "      <th>1</th>\n",
       "      <td>Bob</td>\n",
       "      <td>30</td>\n",
       "      <td>male</td>\n",
       "    </tr>\n",
       "    <tr>\n",
       "      <th>2</th>\n",
       "      <td>Claire</td>\n",
       "      <td>27</td>\n",
       "      <td>female</td>\n",
       "    </tr>\n",
       "  </tbody>\n",
       "</table>\n",
       "</div>"
      ],
      "text/plain": [
       "     Name  Age  Gender\n",
       "0   Alice   25  female\n",
       "1     Bob   30    male\n",
       "2  Claire   27  female"
      ]
     },
     "execution_count": 12,
     "metadata": {},
     "output_type": "execute_result"
    }
   ],
   "source": [
    "df1"
   ]
  },
  {
   "cell_type": "markdown",
   "id": "f35dffcf-fb2e-42ae-ac1d-7545118c4a55",
   "metadata": {},
   "source": [
    "## Q4. What is ‘DataFrame’ in pandas and how is it different from pandas.series? Explain with an example."
   ]
  },
  {
   "cell_type": "raw",
   "id": "4f90bd94-9e8d-4616-a02c-229ddf42a4bd",
   "metadata": {},
   "source": [
    "Pandas DataFrame is a 2-dimensional labeled data structure like any table with rows and columns. The size and values of the dataframe are mutable,i.e., can be modified."
   ]
  },
  {
   "cell_type": "raw",
   "id": "59072860-452e-4ba9-acd1-bdabd5e3754d",
   "metadata": {},
   "source": [
    "Pandas Series is a one-dimensional labeled array capable of holding data of any type (integer, string, float, python objects, etc.)."
   ]
  },
  {
   "cell_type": "code",
   "execution_count": 14,
   "id": "0b6b1a18-4b69-45c3-872c-2ab44d89da4a",
   "metadata": {},
   "outputs": [
    {
     "name": "stdout",
     "output_type": "stream",
     "text": [
      "0    1\n",
      "1    2\n",
      "2    3\n",
      "3    4\n",
      "dtype: int64\n"
     ]
    }
   ],
   "source": [
    "data = [1,2,3,4]\n",
    "df2 = pd.Series(data)\n",
    "print(df2)"
   ]
  },
  {
   "cell_type": "code",
   "execution_count": 15,
   "id": "f962e869-d617-4014-8a7e-78de81c71344",
   "metadata": {},
   "outputs": [
    {
     "data": {
      "text/html": [
       "<div>\n",
       "<style scoped>\n",
       "    .dataframe tbody tr th:only-of-type {\n",
       "        vertical-align: middle;\n",
       "    }\n",
       "\n",
       "    .dataframe tbody tr th {\n",
       "        vertical-align: top;\n",
       "    }\n",
       "\n",
       "    .dataframe thead th {\n",
       "        text-align: right;\n",
       "    }\n",
       "</style>\n",
       "<table border=\"1\" class=\"dataframe\">\n",
       "  <thead>\n",
       "    <tr style=\"text-align: right;\">\n",
       "      <th></th>\n",
       "      <th>Name</th>\n",
       "      <th>Age</th>\n",
       "      <th>Gender</th>\n",
       "    </tr>\n",
       "  </thead>\n",
       "  <tbody>\n",
       "    <tr>\n",
       "      <th>0</th>\n",
       "      <td>Alice</td>\n",
       "      <td>25</td>\n",
       "      <td>female</td>\n",
       "    </tr>\n",
       "    <tr>\n",
       "      <th>1</th>\n",
       "      <td>Bob</td>\n",
       "      <td>30</td>\n",
       "      <td>male</td>\n",
       "    </tr>\n",
       "    <tr>\n",
       "      <th>2</th>\n",
       "      <td>Claire</td>\n",
       "      <td>27</td>\n",
       "      <td>female</td>\n",
       "    </tr>\n",
       "  </tbody>\n",
       "</table>\n",
       "</div>"
      ],
      "text/plain": [
       "     Name  Age  Gender\n",
       "0   Alice   25  female\n",
       "1     Bob   30    male\n",
       "2  Claire   27  female"
      ]
     },
     "execution_count": 15,
     "metadata": {},
     "output_type": "execute_result"
    }
   ],
   "source": [
    "Data = {'Name':['Alice','Bob','Claire'],'Age':[25,30,27],'Gender':['female','male','female']}\n",
    "df3  = pd.DataFrame(Data)\n",
    "df3"
   ]
  },
  {
   "cell_type": "markdown",
   "id": "243e3da5-8466-455f-a137-f8e201cb857b",
   "metadata": {},
   "source": [
    "## Q5. What are some common functions you can use to manipulate data in a Pandas DataFrame? Can you give an example of when you might use one of these functions?"
   ]
  },
  {
   "cell_type": "raw",
   "id": "efb52978-f7be-4fbc-9274-bad614b4fab0",
   "metadata": {},
   "source": [
    "1) read_csv\n",
    "2) df.head()\n",
    "3) df[\"\"].dtypes\n",
    "4) df.fillna()\n",
    "5) df.columns"
   ]
  },
  {
   "cell_type": "code",
   "execution_count": 3,
   "id": "70b3d33d-f3d4-47ac-a1fe-8de5da72d301",
   "metadata": {},
   "outputs": [],
   "source": [
    "df11 = pd.read_csv(\"Titanic_data.csv\")"
   ]
  },
  {
   "cell_type": "markdown",
   "id": "ab44510e-7f68-4ecd-b81b-f66c52df6d29",
   "metadata": {},
   "source": [
    "## Q6. Which of the following is mutable in nature Series, DataFrame, Panel?"
   ]
  },
  {
   "cell_type": "raw",
   "id": "733ef482-8502-42b9-a0f0-c24e2c162d12",
   "metadata": {},
   "source": [
    "-> DataFrame is mutable in nature.Its values and size both can be changed.\n",
    "-> Series is mutable in nature but only its value can be changed not its size.\n",
    "-> Panel is mutable in nature.Its value and size both are mutable."
   ]
  },
  {
   "cell_type": "markdown",
   "id": "cee8901a-28d4-4fc1-84c8-5416a656ccf4",
   "metadata": {},
   "source": [
    "## Q7. Create a DataFrame using multiple Series. Explain with an example."
   ]
  },
  {
   "cell_type": "code",
   "execution_count": 13,
   "id": "c8929a71-00c9-4628-9bfb-6c4b9453465a",
   "metadata": {},
   "outputs": [],
   "source": [
    "l1 = [1,2,3]\n",
    "s1 = pd.Series(l1)\n",
    "\n",
    "l2 = [\"dhruv\",\"jatin\",\"rahul\"]\n",
    "s2 = pd.Series(l2)\n",
    "\n",
    "l3 = [{\"key1\":[1,2,3,4]},{\"key2\":[3,4,5,6]},{\"key3\":[5,6,7,8]}]\n",
    "s3 = pd.Series(l3)\n",
    "\n",
    "d1 = {\"d1\":s1,\"d2\":s2,\"d3\":s3}"
   ]
  },
  {
   "cell_type": "code",
   "execution_count": 14,
   "id": "85636793-3f19-4c05-8d90-d945e90d190c",
   "metadata": {},
   "outputs": [],
   "source": [
    "df12 = pd.DataFrame(d1)"
   ]
  },
  {
   "cell_type": "code",
   "execution_count": 15,
   "id": "49c265a4-5ea3-442f-be3c-61a3142f7183",
   "metadata": {},
   "outputs": [
    {
     "data": {
      "text/html": [
       "<div>\n",
       "<style scoped>\n",
       "    .dataframe tbody tr th:only-of-type {\n",
       "        vertical-align: middle;\n",
       "    }\n",
       "\n",
       "    .dataframe tbody tr th {\n",
       "        vertical-align: top;\n",
       "    }\n",
       "\n",
       "    .dataframe thead th {\n",
       "        text-align: right;\n",
       "    }\n",
       "</style>\n",
       "<table border=\"1\" class=\"dataframe\">\n",
       "  <thead>\n",
       "    <tr style=\"text-align: right;\">\n",
       "      <th></th>\n",
       "      <th>d1</th>\n",
       "      <th>d2</th>\n",
       "      <th>d3</th>\n",
       "    </tr>\n",
       "  </thead>\n",
       "  <tbody>\n",
       "    <tr>\n",
       "      <th>0</th>\n",
       "      <td>1</td>\n",
       "      <td>dhruv</td>\n",
       "      <td>{'key1': [1, 2, 3, 4]}</td>\n",
       "    </tr>\n",
       "    <tr>\n",
       "      <th>1</th>\n",
       "      <td>2</td>\n",
       "      <td>jatin</td>\n",
       "      <td>{'key2': [3, 4, 5, 6]}</td>\n",
       "    </tr>\n",
       "    <tr>\n",
       "      <th>2</th>\n",
       "      <td>3</td>\n",
       "      <td>rahul</td>\n",
       "      <td>{'key3': [5, 6, 7, 8]}</td>\n",
       "    </tr>\n",
       "  </tbody>\n",
       "</table>\n",
       "</div>"
      ],
      "text/plain": [
       "   d1     d2                      d3\n",
       "0   1  dhruv  {'key1': [1, 2, 3, 4]}\n",
       "1   2  jatin  {'key2': [3, 4, 5, 6]}\n",
       "2   3  rahul  {'key3': [5, 6, 7, 8]}"
      ]
     },
     "execution_count": 15,
     "metadata": {},
     "output_type": "execute_result"
    }
   ],
   "source": [
    "df12"
   ]
  },
  {
   "cell_type": "code",
   "execution_count": null,
   "id": "da199090-8c77-4827-841e-a338d7f729bb",
   "metadata": {},
   "outputs": [],
   "source": []
  }
 ],
 "metadata": {
  "kernelspec": {
   "display_name": "Python 3 (ipykernel)",
   "language": "python",
   "name": "python3"
  },
  "language_info": {
   "codemirror_mode": {
    "name": "ipython",
    "version": 3
   },
   "file_extension": ".py",
   "mimetype": "text/x-python",
   "name": "python",
   "nbconvert_exporter": "python",
   "pygments_lexer": "ipython3",
   "version": "3.10.8"
  }
 },
 "nbformat": 4,
 "nbformat_minor": 5
}
